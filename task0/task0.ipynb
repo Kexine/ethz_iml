{
 "cells": [
  {
   "cell_type": "code",
   "execution_count": null,
   "metadata": {},
   "outputs": [],
   "source": [
    "##### load data\n",
    "import numpy as np\n",
    "\n",
    "trainData = np.loadtxt(open(\"train.csv\", \"rb\"), delimiter=\",\", skiprows=1)\n",
    "testData = np.loadtxt(open(\"test.csv\", \"rb\"), delimiter=\",\", skiprows=1)\n",
    "# print(trainData)\n",
    "\n",
    "Id_, y_, x_ = np.hsplit(trainData, np.array([1, 2]))\n",
    "y = np.squeeze(np.asarray(y_))\n",
    "(N, d) = x_.shape\n",
    "x = np.ones((N, d+1))\n",
    "x[:,:-1] = x_\n",
    "\n",
    "Id_test_, x_test_ = np.hsplit(testData, [1])\n",
    "Id_test = np.squeeze(np.asarray(Id_test_))\n",
    "(N_test, d_test) = x_test_.shape\n",
    "assert d == d_test\n",
    "x_test = np.ones((N_test, d+1))\n",
    "x_test[:,:-1] = x_test_\n"
   ]
  },
  {
   "cell_type": "code",
   "execution_count": null,
   "metadata": {},
   "outputs": [],
   "source": [
    "##### train (fit)\n",
    "### using Scikit\n",
    "from sklearn import linear_model\n",
    "reg = linear_model.LinearRegression()\n",
    "reg.fit(x, y)\n",
    "reg.coef_\n"
   ]
  },
  {
   "cell_type": "code",
   "execution_count": null,
   "metadata": {},
   "outputs": [],
   "source": [
    "##### test\n",
    "### using Scikit\n",
    "y_pred = reg.predict(x_test)\n",
    "print(y_pred)"
   ]
  },
  {
   "cell_type": "code",
   "execution_count": null,
   "metadata": {},
   "outputs": [],
   "source": [
    "##### write the result\n",
    "output = np.zeros((N_test, 2))\n",
    "output[:,0] = Id_test\n",
    "output[:,1] = y_pred\n",
    "print(output)\n",
    "\n",
    "np.savetxt('result.csv', output, fmt='%i, %.18e', delimiter=',', header='Id,y', comments='')"
   ]
  },
  {
   "cell_type": "code",
   "execution_count": null,
   "metadata": {},
   "outputs": [],
   "source": [
    "##### evaluation\n",
    "from sklearn.metrics import mean_squared_error\n",
    "\n",
    "y_mean = np.zeros(N_test)\n",
    "for i in range(N_test):\n",
    "    y_mean[i] = sum(x_test_[i,:])/10\n",
    "    \n",
    "RMSE = mean_squared_error(y_mean, y_pred)**0.5\n",
    "print(RMSE)"
   ]
  },
  {
   "cell_type": "code",
   "execution_count": null,
   "metadata": {},
   "outputs": [],
   "source": [
    "##### some more tests without using Scikit (not part of the submission)\n",
    "### closed form solution\n",
    "w_est = np.matmul(np.linalg.inv(np.matmul(np.transpose(x), x)), np.transpose(x)).dot(y)\n",
    "print(w_est)\n"
   ]
  },
  {
   "cell_type": "code",
   "execution_count": null,
   "metadata": {},
   "outputs": [],
   "source": [
    "### gradient descent\n",
    "\n",
    "epsilon=10^-6\n",
    "nb_it_max=10^5\n",
    "nb_it=0\n",
    "w_old=np.zeros((10,1)) #initialization for w\n",
    "\n",
    "def R(w):\n",
    "    Sum=0\n",
    "    w_transposed=np.transpose(w)\n",
    "    for i in range(Y_train.shape[0]):\n",
    "        X_train_i_transposed=np.transpose(X_train[i])\n",
    "        Sum+=(float(Y_train[i]-w_transposed*X_train_i_transposed))**2\n",
    "    return Sum\n",
    "\n",
    "def grad_R(w):\n",
    "    Sum=0\n",
    "    w_transposed=np.transpose(w)\n",
    "    for i in range(Y_train.shape[0]):\n",
    "        X_train_i_transposed=np.transpose(X_train[i])\n",
    "        Sum+=-2*float((Y_train[i]-w_transposed*X_train_i_transposed))*X_train_i_transposed\n",
    "    return Sum\n",
    "\n",
    "error_R=1               \n",
    "while(abs(error_R)>epsilon and nb_it<nb_it_max):\n",
    "    w_new=w_old-n*grad_R(w_old)\n",
    "    nb_it+=1   \n",
    "    error_R=R(w_new)-R(w_old)\n",
    "    w_old=w_new\n",
    "    print(error_R)\n",
    "    \n",
    "print(w_new)"
   ]
  },
  {
   "cell_type": "code",
   "execution_count": null,
   "metadata": {},
   "outputs": [],
   "source": []
  }
 ],
 "metadata": {
  "kernelspec": {
   "display_name": "Python 3",
   "language": "python",
   "name": "python3"
  },
  "language_info": {
   "codemirror_mode": {
    "name": "ipython",
    "version": 3
   },
   "file_extension": ".py",
   "mimetype": "text/x-python",
   "name": "python",
   "nbconvert_exporter": "python",
   "pygments_lexer": "ipython3",
   "version": "3.7.0"
  }
 },
 "nbformat": 4,
 "nbformat_minor": 2
}
