{
 "cells": [
  {
   "cell_type": "code",
   "execution_count": null,
   "metadata": {},
   "outputs": [],
   "source": [
    "##### load data\n",
    "import numpy as np\n",
    "\n",
    "trainData = np.loadtxt(open(\"train.csv\", \"rb\"), delimiter=\",\", skiprows=1)\n",
    "\n",
    "Id_, y_, x = np.hsplit(trainData, np.array([1, 2]))\n",
    "y = np.squeeze(np.asarray(y_))\n",
    "\n",
    "# print(x)\n",
    "# print(y)"
   ]
  },
  {
   "cell_type": "code",
   "execution_count": null,
   "metadata": {},
   "outputs": [],
   "source": [
    "##### ridge regression\n",
    "from sklearn.model_selection import KFold\n",
    "from sklearn.linear_model import Ridge\n",
    "from sklearn.metrics import mean_squared_error\n",
    "\n",
    "lamdas = np.array([0.01, 0.1, 1, 10, 100])\n",
    "num_fold = 10\n",
    "\n",
    "kf = KFold(n_splits=num_fold, shuffle=False)\n",
    "\n",
    "rmse_avg = np.zeros(lamdas.size)\n",
    "for i in range(lamdas.size):\n",
    "    for train_index, test_index in kf.split(x):\n",
    "        clf = Ridge(alpha = lamdas[i])\n",
    "        clf.fit(x[train_index], y[train_index])\n",
    "        y_pred = clf.predict(x[test_index])\n",
    "        rmse_avg[i] += mean_squared_error(y[test_index], y_pred, squared=False)\n",
    "    rmse_avg[i] /= num_fold\n",
    "\n",
    "print(rmse_avg)\n"
   ]
  },
  {
   "cell_type": "code",
   "execution_count": null,
   "metadata": {},
   "outputs": [],
   "source": [
    "##### write the result\n",
    "np.savetxt('result.csv', rmse_avg, fmt='%.18e', delimiter=',', comments='')"
   ]
  },
  {
   "cell_type": "code",
   "execution_count": null,
   "metadata": {},
   "outputs": [],
   "source": []
  }
 ],
 "metadata": {
  "kernelspec": {
   "display_name": "Python 3",
   "language": "python",
   "name": "python3"
  },
  "language_info": {
   "codemirror_mode": {
    "name": "ipython",
    "version": 3
   },
   "file_extension": ".py",
   "mimetype": "text/x-python",
   "name": "python",
   "nbconvert_exporter": "python",
   "pygments_lexer": "ipython3",
   "version": "3.7.0"
  }
 },
 "nbformat": 4,
 "nbformat_minor": 2
}
