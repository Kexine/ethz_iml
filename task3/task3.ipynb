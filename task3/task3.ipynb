{
 "cells": [
  {
   "cell_type": "code",
   "execution_count": null,
   "metadata": {},
   "outputs": [],
   "source": [
    "import numpy as np\n",
    "import pandas as pd\n",
    "from sklearn.metrics import f1_score\n",
    "from sklearn.ensemble import RandomForestClassifier\n",
    "from sklearn.model_selection import StratifiedKFold"
   ]
  },
  {
   "cell_type": "code",
   "execution_count": null,
   "metadata": {},
   "outputs": [],
   "source": [
    "from sklearn.neural_network import MLPClassifier\n",
    "# from keras.utils import to_categorical\n",
    "\n",
    "def to_categorical(y, num_classes=None, dtype='float32'):\n",
    "    y = np.array(y, dtype='int')\n",
    "    input_shape = y.shape\n",
    "    if input_shape and input_shape[-1] == 1 and len(input_shape) > 1:\n",
    "        input_shape = tuple(input_shape[:-1])\n",
    "    y = y.ravel()\n",
    "    if not num_classes:\n",
    "        num_classes = np.max(y) + 1\n",
    "    n = y.shape[0]\n",
    "    categorical = np.zeros((n, num_classes), dtype=dtype)\n",
    "    categorical[np.arange(n), y] = 1\n",
    "    output_shape = input_shape + (num_classes,)\n",
    "    categorical = np.reshape(categorical, output_shape)\n",
    "    return categorical"
   ]
  },
  {
   "cell_type": "code",
   "execution_count": null,
   "metadata": {},
   "outputs": [],
   "source": [
    "# import data\n",
    "df_train = pd.read_csv('train.csv')\n",
    "df_test  = pd.read_csv('test.csv')\n",
    "\n",
    "x_train_raw = df_train.values[:,0]\n",
    "y_true = df_train.values[:,1].astype(float)\n",
    "x_test_raw = df_test.values\n",
    "\n",
    "# convert the characters to numbers\n",
    "Dict = {\"A\":0, \"B\":1, \"C\":2, \"D\":1, \"E\":3, \"F\":4, \"G\":5, \"H\":6, \"I\":7, \"K\":8, \"L\":9, \"M\":10, \"N\":11, \"P\":12,\n",
    "     \"Q\":13, \"R\":14, \"S\":15, \"T\":16, \"U\":17, \"V\":18, \"W\":19, \"Y\":20}\n",
    "\n",
    "# x_train = np.zeros((len(x_train_raw), 4), dtype=int)\n",
    "x_train = np.zeros((len(x_train_raw), 4))\n",
    "for i in range(len(x_train_raw)):\n",
    "    molecule = x_train_raw[i]\n",
    "    x_train[i, :] = [Dict[str(molecule)[0]],\n",
    "                     Dict[str(molecule)[1]], \n",
    "                     Dict[str(molecule)[2]],\n",
    "                     Dict[str(molecule)[3]]]\n",
    "\n",
    "x_test = np.zeros((len(x_test_raw), 4))\n",
    "for i in range(len(x_test_raw)):\n",
    "    molecule = x_test_raw[i].squeeze()\n",
    "    x_test[i, :] = [Dict[str(molecule)[0]],\n",
    "                    Dict[str(molecule)[1]],\n",
    "                    Dict[str(molecule)[2]],\n",
    "                    Dict[str(molecule)[3]]]"
   ]
  },
  {
   "cell_type": "code",
   "execution_count": null,
   "metadata": {},
   "outputs": [],
   "source": [
    "mlp = MLPClassifier(hidden_layer_sizes=(256), activation='relu', solver='adam', alpha=0.0001, \n",
    "                    batch_size='auto', learning_rate_init=0.001, max_iter=500, shuffle=True, \n",
    "                    random_state=np.random.seed(0), tol=0.0001, warm_start=False, early_stopping=True, \n",
    "                    validation_fraction=0.1, beta_1=0.9, beta_2=0.999, epsilon=1e-08, n_iter_no_change=10)\n",
    "\n",
    "cnt = 0\n",
    "# 10 fold cross-validation\n",
    "num_fold = 10\n",
    "skf = StratifiedKFold(n_splits=num_fold, random_state=None, shuffle=False)\n",
    "score = 0\n",
    "for train_index, val_index in skf.split(x_train, y_true): # split the data into validation and training sets\n",
    "    print(cnt, 'starting .. ', end=\"\")\n",
    "    \n",
    "    X_train, X_val = x_train[train_index], x_train[val_index]\n",
    "    Y_train, Y_val = y_true[train_index], y_true[val_index]\n",
    "    \n",
    "    X_train_cat = to_categorical(X_train).reshape(len(train_index), -1)\n",
    "    X_val_cat = to_categorical(X_val).reshape(len(val_index), -1)\n",
    "    \n",
    "    mlp.fit(X_train_cat, Y_train) # apply model to training data\n",
    "    Y_est = mlp.predict(X_val_cat) # predict labels using validation data\n",
    "\n",
    "    score += f1_score(Y_val, Y_est)\n",
    "    print(f1_score(Y_val, Y_est, pos_label=1))\n",
    "#     print(f1_score(Y_val, Y_est, pos_label=0))\n",
    "    print(\"done\")\n",
    "    cnt += 1\n",
    "    \n",
    "# EVALUATION of model\n",
    "# Calculate average score for all 10 folds\n",
    "avg_score = score/num_fold\n",
    "print(avg_score)"
   ]
  },
  {
   "cell_type": "code",
   "execution_count": null,
   "metadata": {},
   "outputs": [],
   "source": [
    "# Fit on the whole training set\n",
    "x_total_cat = to_categorical(x_train).reshape(len(x_train_raw), -1)\n",
    "\n",
    "mlp = MLPClassifier(hidden_layer_sizes=(256), activation='relu', solver='adam', alpha=0.0001, \n",
    "                    batch_size='auto', learning_rate_init=0.001, max_iter=500, shuffle=True, \n",
    "                    random_state=np.random.seed(0), tol=0.0001, warm_start=False, early_stopping=True, \n",
    "                    validation_fraction=0.1, beta_1=0.9, beta_2=0.999, epsilon=1e-08, n_iter_no_change=10)\n",
    "\n",
    "mlp.fit(x_total_cat, y_true)"
   ]
  },
  {
   "cell_type": "code",
   "execution_count": null,
   "metadata": {},
   "outputs": [],
   "source": [
    "# Predict the Labels for the test features\n",
    "x_test_cat = to_categorical(x_test).reshape(len(x_test_raw), -1)\n",
    "y_pred = mlp.predict(x_test_cat)\n",
    "print(y_pred.shape)"
   ]
  },
  {
   "cell_type": "code",
   "execution_count": null,
   "metadata": {},
   "outputs": [],
   "source": [
    "# print(y_pred_list)\n",
    "output = np.array(y_pred).astype(int)\n",
    "print(np.sum(output))"
   ]
  },
  {
   "cell_type": "code",
   "execution_count": null,
   "metadata": {},
   "outputs": [],
   "source": [
    "np.savetxt('predict.csv', output, fmt='%d', delimiter='')"
   ]
  },
  {
   "cell_type": "code",
   "execution_count": null,
   "metadata": {},
   "outputs": [],
   "source": []
  }
 ],
 "metadata": {
  "kernelspec": {
   "display_name": "Python 3",
   "language": "python",
   "name": "python3"
  },
  "language_info": {
   "codemirror_mode": {
    "name": "ipython",
    "version": 3
   },
   "file_extension": ".py",
   "mimetype": "text/x-python",
   "name": "python",
   "nbconvert_exporter": "python",
   "pygments_lexer": "ipython3",
   "version": "3.7.0"
  }
 },
 "nbformat": 4,
 "nbformat_minor": 4
}
