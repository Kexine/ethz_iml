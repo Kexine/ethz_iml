{
 "cells": [
  {
   "cell_type": "code",
   "execution_count": null,
   "metadata": {},
   "outputs": [],
   "source": [
    "##### load data\n",
    "import numpy as np\n",
    "np.set_printoptions(precision = 17)\n",
    "\n",
    "trainData = np.loadtxt(open(\"train.csv\", \"rb\"), delimiter=\",\", skiprows=1)\n",
    "\n",
    "Id_, y_, x_ = np.hsplit(trainData, np.array([1, 2]))\n",
    "y = np.squeeze(np.asarray(y_))\n",
    "\n",
    "# print(x_)\n",
    "# print(y)"
   ]
  },
  {
   "cell_type": "code",
   "execution_count": null,
   "metadata": {},
   "outputs": [],
   "source": [
    "##### define features\n",
    "# linear\n",
    "lin = x_\n",
    "# quadratic\n",
    "quad = np.power(x_, 2)\n",
    "# exponential\n",
    "exp = np.exp(x_)\n",
    "# cosine\n",
    "cos = np.cos(x_)\n",
    "# constant\n",
    "c = np.ones(len(x_))\n",
    "\n",
    "x = np.column_stack((np.hstack((lin, quad, exp, cos)), c))\n",
    "(N, d) = x.shape\n",
    "# print(d)\n"
   ]
  },
  {
   "cell_type": "code",
   "execution_count": null,
   "metadata": {},
   "outputs": [],
   "source": [
    "from sklearn.linear_model import RidgeCV\n",
    "from sklearn.metrics import mean_squared_error, make_scorer\n",
    "mse = make_scorer(mean_squared_error, squared=False, greater_is_better = False)\n",
    "\n",
    "lb, ub = -3, 3\n",
    "lamda_old = 0\n",
    "threshold = 0.005\n",
    "\n",
    "while True:\n",
    "    lamdas = np.logspace(lb, ub, num=50, base=10.)\n",
    "    ridge = RidgeCV(alphas=lamdas, scoring=mse, cv=10)\n",
    "    ridge.fit(x, y)\n",
    "    lamda = ridge.alpha_\n",
    "    print(lamda)\n",
    "    \n",
    "    idx = lamdas.tolist().index(lamda)\n",
    "    if np.abs(lamda - lamda_old)/lamda < threshold:\n",
    "        break\n",
    "    lamda_old = lamda\n",
    "    lb, ub = np.log10(lamdas[idx-1]), np.log10(lamdas[idx+1])\n",
    "\n",
    "weights = ridge.coef_\n",
    "print(weights)"
   ]
  },
  {
   "cell_type": "code",
   "execution_count": null,
   "metadata": {},
   "outputs": [],
   "source": [
    "##### write the result\n",
    "np.savetxt('result.csv', weights, fmt='%.18e', delimiter=',', comments='')"
   ]
  },
  {
   "cell_type": "code",
   "execution_count": null,
   "metadata": {},
   "outputs": [],
   "source": []
  }
 ],
 "metadata": {
  "kernelspec": {
   "display_name": "Python 3",
   "language": "python",
   "name": "python3"
  },
  "language_info": {
   "codemirror_mode": {
    "name": "ipython",
    "version": 3
   },
   "file_extension": ".py",
   "mimetype": "text/x-python",
   "name": "python",
   "nbconvert_exporter": "python",
   "pygments_lexer": "ipython3",
   "version": "3.7.0"
  }
 },
 "nbformat": 4,
 "nbformat_minor": 2
}
